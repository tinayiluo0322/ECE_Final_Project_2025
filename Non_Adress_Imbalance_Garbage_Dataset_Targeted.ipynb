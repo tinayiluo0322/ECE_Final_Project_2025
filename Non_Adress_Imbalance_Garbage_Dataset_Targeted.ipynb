{
  "nbformat": 4,
  "nbformat_minor": 0,
  "metadata": {
    "colab": {
      "provenance": [],
      "machine_shape": "hm",
      "gpuType": "L4",
      "authorship_tag": "ABX9TyPzV+Fi6IC3gR2xpgjK4Wn6",
      "include_colab_link": true
    },
    "kernelspec": {
      "name": "python3",
      "display_name": "Python 3"
    },
    "language_info": {
      "name": "python"
    },
    "accelerator": "GPU"
  },
  "cells": [
    {
      "cell_type": "markdown",
      "metadata": {
        "id": "view-in-github",
        "colab_type": "text"
      },
      "source": [
        "<a href=\"https://colab.research.google.com/github/tinayiluo0322/ECE_Final_Project_2025/blob/main/Non_Adress_Imbalance_Garbage_Dataset_Targeted.ipynb\" target=\"_parent\"><img src=\"https://colab.research.google.com/assets/colab-badge.svg\" alt=\"Open In Colab\"/></a>"
      ]
    },
    {
      "cell_type": "markdown",
      "source": [
        "# Adversarial Patch Attack"
      ],
      "metadata": {
        "id": "89LqUDcPxG6_"
      }
    },
    {
      "cell_type": "markdown",
      "source": [
        "## Load Data"
      ],
      "metadata": {
        "id": "GBGfbPRYxN5H"
      }
    },
    {
      "cell_type": "code",
      "execution_count": 2,
      "metadata": {
        "colab": {
          "base_uri": "https://localhost:8080/"
        },
        "id": "ZfqqNv-CwhA5",
        "outputId": "05c3f303-d19e-40fb-dc36-9148dc05b422"
      },
      "outputs": [
        {
          "output_type": "stream",
          "name": "stdout",
          "text": [
            "Mounted at /content/drive\n"
          ]
        }
      ],
      "source": [
        "# Connect to Google Drive\n",
        "from google.colab import drive\n",
        "drive.mount('/content/drive')"
      ]
    },
    {
      "cell_type": "code",
      "source": [
        "import sys\n",
        "import os\n",
        "import random\n",
        "import numpy as np\n",
        "import torch"
      ],
      "metadata": {
        "id": "mM52uDJdxPrx"
      },
      "execution_count": 3,
      "outputs": []
    },
    {
      "cell_type": "code",
      "source": [
        "import torch.backends.cudnn as cudnn\n",
        "import torch.nn as nn\n",
        "import torch.nn.functional as F\n",
        "import os\n",
        "import numpy as np\n",
        "import torch\n",
        "from torchvision import datasets, transforms\n",
        "from torch.utils.data import DataLoader, Subset, Dataset, random_split, WeightedRandomSampler\n",
        "from sklearn.model_selection import train_test_split\n",
        "from collections import Counter\n",
        "import shutil\n",
        "from PIL import Image\n",
        "import torch.optim as optim\n",
        "from torch.optim import lr_scheduler\n",
        "import time\n",
        "import copy\n",
        "from sklearn.metrics import classification_report, confusion_matrix, roc_auc_score\n",
        "from tqdm.notebook import tqdm"
      ],
      "metadata": {
        "id": "MWazwIisxUw7"
      },
      "execution_count": 4,
      "outputs": []
    },
    {
      "cell_type": "code",
      "source": [
        "#Set Random Seed\n",
        "seed = 42\n",
        "random.seed(seed)  # Python's random module\n",
        "np.random.seed(seed)  # NumPy's random module\n",
        "torch.manual_seed(seed)  # PyTorch's random seed for CPU\n",
        "torch.cuda.manual_seed(seed)  # PyTorch's random seed for the current GPU\n",
        "torch.cuda.manual_seed_all(seed)  # PyTorch's random seed for all GPUs (if using multi-GPU)\n",
        "\n",
        "# Ensure deterministic behavior on GPU (optional, may slow down training)\n",
        "torch.backends.cudnn.deterministic = True\n",
        "torch.backends.cudnn.benchmark = False\n",
        "\n",
        "# Optional: Set environment variables for further reproducibility\n",
        "os.environ['PYTHONHASHSEED'] = str(seed)"
      ],
      "metadata": {
        "id": "dAUoSX1bxXTL"
      },
      "execution_count": 5,
      "outputs": []
    },
    {
      "cell_type": "markdown",
      "source": [
        "### System Check"
      ],
      "metadata": {
        "id": "x6kfVjJ-xgOh"
      }
    },
    {
      "cell_type": "code",
      "source": [
        "import torch\n",
        "import numpy as np\n",
        "\n",
        "# check if CUDA is available\n",
        "train_on_gpu = torch.cuda.is_available()\n",
        "\n",
        "if not train_on_gpu:\n",
        "  print('CUDA is not available.  Training on CPU ...')\n",
        "else:\n",
        "  print('CUDA is available!  Training on GPU ...')"
      ],
      "metadata": {
        "colab": {
          "base_uri": "https://localhost:8080/"
        },
        "id": "0BRi7DFFxcpm",
        "outputId": "7572d1ba-01bf-4eb8-be12-8fc3a1d449ab"
      },
      "execution_count": 6,
      "outputs": [
        {
          "output_type": "stream",
          "name": "stdout",
          "text": [
            "CUDA is available!  Training on GPU ...\n"
          ]
        }
      ]
    },
    {
      "cell_type": "markdown",
      "source": [
        "### Load Data"
      ],
      "metadata": {
        "id": "W3LHHSgayhji"
      }
    },
    {
      "cell_type": "code",
      "source": [
        "import torch\n",
        "import numpy as np\n",
        "from torchvision import datasets, transforms\n",
        "import os\n",
        "from sklearn.model_selection import train_test_split\n",
        "from collections import Counter\n",
        "from torch.utils.data import Dataset, DataLoader, Subset\n",
        "\n",
        "# Paths and config\n",
        "DATA_PATH = \"/content/drive/MyDrive/two_class_garbage-dataset (1)\"\n",
        "num_workers = 2\n",
        "batch_size = 32\n",
        "\n",
        "print('==> Preparing data..')\n",
        "\n",
        "# Use ImageFolder dataset with default mapping\n",
        "dataset = datasets.ImageFolder(\n",
        "    DATA_PATH,\n",
        "    transform=None  # No transforms yet\n",
        ")\n",
        "\n",
        "# Print default class information\n",
        "print(\"Classes:\", dataset.classes)\n",
        "print(\"Default class to index mapping:\", dataset.class_to_idx)\n",
        "\n",
        "# Get targets for stratification\n",
        "targets = np.array(dataset.targets)\n",
        "\n",
        "# Print class distribution\n",
        "class_counts = Counter(targets)\n",
        "print(\"Dataset class distribution:\")\n",
        "for class_name in dataset.classes:\n",
        "    class_idx = dataset.class_to_idx[class_name]\n",
        "    count = class_counts[class_idx]\n",
        "    percentage = count / len(targets) * 100\n",
        "    print(f\"  - {class_name} (class {class_idx}): {count} samples ({percentage:.2f}%)\")\n",
        "\n",
        "# Verify the first few samples\n",
        "print(\"Verification - First few samples and their classes:\")\n",
        "for i in range(min(5, len(dataset.samples))):\n",
        "    path, class_idx = dataset.samples[i]\n",
        "    class_name = dataset.classes[class_idx]\n",
        "    print(f\"  Sample {i}: {path} → Class: {class_name} (index: {class_idx})\")\n",
        "\n",
        "# First split: train vs eval (80/20 split) - keeping stratified split\n",
        "train_indices, eval_indices = train_test_split(\n",
        "    np.arange(len(targets)),\n",
        "    test_size=0.2,  # 20% for evaluation (will be split into val and test)\n",
        "    stratify=targets,\n",
        "    random_state=42\n",
        ")\n",
        "\n",
        "# Get labels for the evaluation set for further stratified splitting\n",
        "eval_targets = targets[eval_indices]\n",
        "\n",
        "# Second split: validation vs test (50/50 of the eval set, which makes 10/10 of total)\n",
        "valid_indices, test_indices = train_test_split(\n",
        "    eval_indices,\n",
        "    test_size=0.5,  # Split eval set equally between validation and test\n",
        "    stratify=eval_targets,\n",
        "    random_state=42\n",
        ")\n",
        "\n",
        "print(f\"Split proportions: {len(train_indices)}/{len(valid_indices)}/{len(test_indices)} (train/valid/test)\")\n",
        "\n",
        "# Print class distribution after stratified split\n",
        "train_targets = targets[train_indices]\n",
        "val_targets = targets[valid_indices]\n",
        "test_targets = targets[test_indices]\n",
        "\n",
        "# Print class distribution after stratified split\n",
        "print(\"Class distribution after stratified split:\")\n",
        "for class_name in dataset.classes:\n",
        "    class_idx = dataset.class_to_idx[class_name]\n",
        "    train_count = np.sum(train_targets == class_idx)\n",
        "    val_count = np.sum(val_targets == class_idx)\n",
        "    test_count = np.sum(test_targets == class_idx)\n",
        "\n",
        "    train_pct = train_count / len(train_targets) * 100\n",
        "    val_pct = val_count / len(val_targets) * 100\n",
        "    test_pct = test_count / len(test_targets) * 100\n",
        "\n",
        "    print(f\"{class_name} (class {class_idx}):\")\n",
        "    print(f\"  - Train: {train_count} samples ({train_pct:.2f}%)\")\n",
        "    print(f\"  - Valid: {val_count} samples ({val_pct:.2f}%)\")\n",
        "    print(f\"  - Test:  {test_count} samples ({test_pct:.2f}%)\")\n",
        "\n",
        "# Define the transforms with dataset-specific values\n",
        "MEAN = [0.6256342530250549, 0.5870475769042969, 0.5542739629745483]\n",
        "STD = [0.2797325849533081, 0.2854619324207306, 0.2984888553619385]\n",
        "\n",
        "# Define transforms without data augmentation\n",
        "transform_train = transforms.Compose([\n",
        "    transforms.Resize((32, 32)),\n",
        "    transforms.ToTensor(),\n",
        "    transforms.Normalize(MEAN, STD),\n",
        "])\n",
        "\n",
        "transform_test = transforms.Compose([\n",
        "    transforms.Resize((32, 32)),\n",
        "    transforms.ToTensor(),\n",
        "    transforms.Normalize(MEAN, STD),\n",
        "])\n",
        "\n",
        "# Custom wrapper for applying transforms\n",
        "class TransformedSubset(Dataset):\n",
        "    def __init__(self, subset, transform=None):\n",
        "        self.subset = subset\n",
        "        self.transform = transform\n",
        "\n",
        "    def __len__(self):\n",
        "        return len(self.subset)\n",
        "\n",
        "    def __getitem__(self, idx):\n",
        "        image, label = self.subset[idx]\n",
        "        if self.transform:\n",
        "            image = self.transform(image)\n",
        "        return image, label\n",
        "\n",
        "# Create subsets\n",
        "train_set = TransformedSubset(Subset(dataset, train_indices), transform_train)\n",
        "val_set = TransformedSubset(Subset(dataset, valid_indices), transform_test)\n",
        "test_set = TransformedSubset(Subset(dataset, test_indices), transform_test)\n",
        "\n",
        "# Prepare data loaders without weighted sampler\n",
        "train_loader = DataLoader(\n",
        "    train_set, batch_size=batch_size,\n",
        "    shuffle=True, num_workers=num_workers  # Using standard shuffle instead of weighted sampler\n",
        ")\n",
        "valid_loader = DataLoader(\n",
        "    val_set, batch_size=batch_size,\n",
        "    shuffle=False, num_workers=num_workers\n",
        ")\n",
        "test_loader = DataLoader(\n",
        "    test_set, batch_size=batch_size,\n",
        "    shuffle=False, num_workers=num_workers\n",
        ")\n",
        "\n",
        "print(f'Number of training samples: {len(train_set)}')\n",
        "print(f'Number of validation samples: {len(val_set)}')\n",
        "print(f'Number of test samples: {len(test_set)}')\n",
        "print(f'Total samples: {len(dataset)}')\n",
        "\n",
        "# Function to check batch distribution (without balancing)\n",
        "def check_batch_distribution(loader, num_batches=5):\n",
        "    class_counts = Counter()\n",
        "    for i, (_, labels) in enumerate(loader):\n",
        "        if i >= num_batches:\n",
        "            break\n",
        "        class_counts.update(labels.numpy())\n",
        "    print(\"Sampled batch class distribution:\", dict(class_counts))\n",
        "\n",
        "print(\"Checking batch distribution (without weighted sampling):\")\n",
        "check_batch_distribution(train_loader)"
      ],
      "metadata": {
        "colab": {
          "base_uri": "https://localhost:8080/"
        },
        "id": "SYOpqeAhxiJL",
        "outputId": "b13f8ed9-836b-47d2-ce60-19b80ef38932"
      },
      "execution_count": 7,
      "outputs": [
        {
          "output_type": "stream",
          "name": "stdout",
          "text": [
            "==> Preparing data..\n",
            "Classes: ['battery (1)', 'non_battery (1)']\n",
            "Default class to index mapping: {'battery (1)': 0, 'non_battery (1)': 1}\n",
            "Dataset class distribution:\n",
            "  - battery (1) (class 0): 944 samples (4.78%)\n",
            "  - non_battery (1) (class 1): 18786 samples (95.22%)\n",
            "Verification - First few samples and their classes:\n",
            "  Sample 0: /content/drive/MyDrive/two_class_garbage-dataset (1)/battery (1)/battery_1 (1).jpg → Class: battery (1) (index: 0)\n",
            "  Sample 1: /content/drive/MyDrive/two_class_garbage-dataset (1)/battery (1)/battery_10 (1).jpg → Class: battery (1) (index: 0)\n",
            "  Sample 2: /content/drive/MyDrive/two_class_garbage-dataset (1)/battery (1)/battery_100 (1).jpg → Class: battery (1) (index: 0)\n",
            "  Sample 3: /content/drive/MyDrive/two_class_garbage-dataset (1)/battery (1)/battery_101 (1).jpg → Class: battery (1) (index: 0)\n",
            "  Sample 4: /content/drive/MyDrive/two_class_garbage-dataset (1)/battery (1)/battery_102 (1).jpg → Class: battery (1) (index: 0)\n",
            "Split proportions: 15784/1973/1973 (train/valid/test)\n",
            "Class distribution after stratified split:\n",
            "battery (1) (class 0):\n",
            "  - Train: 755 samples (4.78%)\n",
            "  - Valid: 94 samples (4.76%)\n",
            "  - Test:  95 samples (4.82%)\n",
            "non_battery (1) (class 1):\n",
            "  - Train: 15029 samples (95.22%)\n",
            "  - Valid: 1879 samples (95.24%)\n",
            "  - Test:  1878 samples (95.18%)\n",
            "Number of training samples: 15784\n",
            "Number of validation samples: 1973\n",
            "Number of test samples: 1973\n",
            "Total samples: 19730\n",
            "Checking batch distribution (without weighted sampling):\n",
            "Sampled batch class distribution: {np.int64(1): 153, np.int64(0): 7}\n"
          ]
        }
      ]
    },
    {
      "cell_type": "markdown",
      "source": [
        "## Load Pretrained Models"
      ],
      "metadata": {
        "id": "9b9A331myrf_"
      }
    },
    {
      "cell_type": "markdown",
      "source": [
        "### Model Definition"
      ],
      "metadata": {
        "id": "2BvCRs7DynvN"
      }
    },
    {
      "cell_type": "code",
      "source": [
        "import torch.backends.cudnn as cudnn\n",
        "import torch.nn as nn\n",
        "import torch.nn.functional as F\n",
        "\n",
        "class BasicBlock(nn.Module):\n",
        "  expansion = 1\n",
        "  def __init__(self, in_planes, planes, stride=1):\n",
        "    super(BasicBlock, self).__init__()\n",
        "    self.conv1 = nn.Conv2d(in_planes, planes, kernel_size=3, stride=stride, padding=1, bias=False)\n",
        "    self.bn1 = nn.BatchNorm2d(planes)\n",
        "    self.conv2 = nn.Conv2d(planes, planes, kernel_size=3, stride=1, padding=1, bias=False)\n",
        "    self.bn2 = nn.BatchNorm2d(planes)\n",
        "\n",
        "    self.shortcut = nn.Sequential()\n",
        "    if stride != 1 or in_planes != self.expansion*planes:\n",
        "      self.shortcut = nn.Sequential(\n",
        "          nn.Conv2d(in_planes, self.expansion*planes, kernel_size=1, stride=stride, bias=False),\n",
        "          nn.BatchNorm2d(self.expansion*planes)\n",
        "      )\n",
        "\n",
        "  def forward(self, x):\n",
        "    out = F.relu(self.bn1(self.conv1(x)))\n",
        "    out = self.bn2(self.conv2(out))\n",
        "    out += self.shortcut(x)\n",
        "    out = F.relu(out)\n",
        "    return out\n",
        "\n",
        "class BottleNeck(nn.Module):\n",
        "  expansion = 4\n",
        "\n",
        "  def __init__(self, in_planes, planes, stride=1):\n",
        "    super(BottleNeck, self).__init__()\n",
        "    self.conv1 = nn.Conv2d(in_planes , planes, kernel_size=1, bias=False)\n",
        "    self.bn1 = nn.BatchNorm2d(planes)\n",
        "    self.conv2 = nn.Conv2d(planes, planes, kernel_size=3, stride=stride, padding=1, bias=False)\n",
        "    self.bn2 = nn.BatchNorm2d(planes)\n",
        "    self.conv3 = nn.Conv2d(planes, self.expansion*planes, kernel_size=1, bias=False)\n",
        "    self.bn3 = nn.BatchNorm2d(self.expansion*planes)\n",
        "\n",
        "    self.shortcut = nn.Sequential()\n",
        "    if stride != 1 or in_planes != self.expansion*planes :\n",
        "      self.shortcut = nn.Sequential(\n",
        "          nn.Conv2d(in_planes, self.expansion*planes, kernel_size=1, stride=stride, bias=False),\n",
        "          nn.BatchNorm2d(self.expansion*planes)\n",
        "      )\n",
        "\n",
        "  def forward(self, x):\n",
        "    out = F.relu(self.bn1(self.conv1(x)))\n",
        "    out = F.relu(self.bn2(self.conv2(out)))\n",
        "    out = self.bn3(self.conv3(out))\n",
        "    out += self.shortcut(x)\n",
        "    out = F.relu(out)\n",
        "    return out\n",
        "\n",
        "class ResNet(nn.Module):\n",
        "  def __init__(self, block, num_blocks, num_classes=2):\n",
        "    super(ResNet, self).__init__()\n",
        "    self.in_planes = 64\n",
        "\n",
        "    self.conv1 = nn.Conv2d(3, 64, kernel_size=3, stride=1, padding=1, bias=False)\n",
        "    self.bn1 = nn.BatchNorm2d(64)\n",
        "    self.layer1 = self._make_layer(block, 64, num_blocks[0], stride=1)\n",
        "    self.layer2 = self._make_layer(block, 128, num_blocks[1], stride=2)\n",
        "    self.layer3 = self._make_layer(block, 256, num_blocks[2], stride=2)\n",
        "    self.layer4 = self._make_layer(block, 512, num_blocks[3], stride=2)\n",
        "    self.linear = nn.Linear(512*block.expansion, num_classes)\n",
        "\n",
        "  def _make_layer(self, block, planes, num_blocks, stride):\n",
        "    strides = [stride] + [1]*(num_blocks-1)\n",
        "    layers = []\n",
        "    for stride in strides:\n",
        "      layers.append(block(self.in_planes, planes, stride))\n",
        "      self.in_planes = planes * block.expansion\n",
        "    return nn.Sequential(*layers)\n",
        "\n",
        "  def forward(self, x):\n",
        "    out = F.relu(self.bn1(self.conv1(x)))\n",
        "    out = self.layer1(out)\n",
        "    out = self.layer2(out)\n",
        "    out = self.layer3(out)\n",
        "    out = self.layer4(out)\n",
        "    out = F.avg_pool2d(out, 4)\n",
        "    out = out.view(out.size(0), -1)\n",
        "    out = self.linear(out)\n",
        "    return out\n",
        "\n",
        "ResNet18 = ResNet(BasicBlock, [2,2,2,2])\n",
        "#ResNet34 = ResNet(BasicBlock, [3,4,6,3])\n",
        "#ResNet50 = ResNet(BottleNeck, [3,4,6,3])\n",
        "#ResNet101 = ResNet(BottleNeck, [3,4,23,3])\n",
        "#ResNet152 = ResNet(BottleNeck, [3,8,36,3])\n",
        "\n",
        "print(ResNet18)\n",
        "\n",
        "if train_on_gpu:\n",
        "  ResNet18 = torch.nn.DataParallel(ResNet18)\n",
        "  cudnn.benchmark = True"
      ],
      "metadata": {
        "colab": {
          "base_uri": "https://localhost:8080/"
        },
        "id": "MbqgYMB9ytpQ",
        "outputId": "9bc82e96-d90f-4362-e955-8bd65bde2a60"
      },
      "execution_count": 8,
      "outputs": [
        {
          "output_type": "stream",
          "name": "stdout",
          "text": [
            "ResNet(\n",
            "  (conv1): Conv2d(3, 64, kernel_size=(3, 3), stride=(1, 1), padding=(1, 1), bias=False)\n",
            "  (bn1): BatchNorm2d(64, eps=1e-05, momentum=0.1, affine=True, track_running_stats=True)\n",
            "  (layer1): Sequential(\n",
            "    (0): BasicBlock(\n",
            "      (conv1): Conv2d(64, 64, kernel_size=(3, 3), stride=(1, 1), padding=(1, 1), bias=False)\n",
            "      (bn1): BatchNorm2d(64, eps=1e-05, momentum=0.1, affine=True, track_running_stats=True)\n",
            "      (conv2): Conv2d(64, 64, kernel_size=(3, 3), stride=(1, 1), padding=(1, 1), bias=False)\n",
            "      (bn2): BatchNorm2d(64, eps=1e-05, momentum=0.1, affine=True, track_running_stats=True)\n",
            "      (shortcut): Sequential()\n",
            "    )\n",
            "    (1): BasicBlock(\n",
            "      (conv1): Conv2d(64, 64, kernel_size=(3, 3), stride=(1, 1), padding=(1, 1), bias=False)\n",
            "      (bn1): BatchNorm2d(64, eps=1e-05, momentum=0.1, affine=True, track_running_stats=True)\n",
            "      (conv2): Conv2d(64, 64, kernel_size=(3, 3), stride=(1, 1), padding=(1, 1), bias=False)\n",
            "      (bn2): BatchNorm2d(64, eps=1e-05, momentum=0.1, affine=True, track_running_stats=True)\n",
            "      (shortcut): Sequential()\n",
            "    )\n",
            "  )\n",
            "  (layer2): Sequential(\n",
            "    (0): BasicBlock(\n",
            "      (conv1): Conv2d(64, 128, kernel_size=(3, 3), stride=(2, 2), padding=(1, 1), bias=False)\n",
            "      (bn1): BatchNorm2d(128, eps=1e-05, momentum=0.1, affine=True, track_running_stats=True)\n",
            "      (conv2): Conv2d(128, 128, kernel_size=(3, 3), stride=(1, 1), padding=(1, 1), bias=False)\n",
            "      (bn2): BatchNorm2d(128, eps=1e-05, momentum=0.1, affine=True, track_running_stats=True)\n",
            "      (shortcut): Sequential(\n",
            "        (0): Conv2d(64, 128, kernel_size=(1, 1), stride=(2, 2), bias=False)\n",
            "        (1): BatchNorm2d(128, eps=1e-05, momentum=0.1, affine=True, track_running_stats=True)\n",
            "      )\n",
            "    )\n",
            "    (1): BasicBlock(\n",
            "      (conv1): Conv2d(128, 128, kernel_size=(3, 3), stride=(1, 1), padding=(1, 1), bias=False)\n",
            "      (bn1): BatchNorm2d(128, eps=1e-05, momentum=0.1, affine=True, track_running_stats=True)\n",
            "      (conv2): Conv2d(128, 128, kernel_size=(3, 3), stride=(1, 1), padding=(1, 1), bias=False)\n",
            "      (bn2): BatchNorm2d(128, eps=1e-05, momentum=0.1, affine=True, track_running_stats=True)\n",
            "      (shortcut): Sequential()\n",
            "    )\n",
            "  )\n",
            "  (layer3): Sequential(\n",
            "    (0): BasicBlock(\n",
            "      (conv1): Conv2d(128, 256, kernel_size=(3, 3), stride=(2, 2), padding=(1, 1), bias=False)\n",
            "      (bn1): BatchNorm2d(256, eps=1e-05, momentum=0.1, affine=True, track_running_stats=True)\n",
            "      (conv2): Conv2d(256, 256, kernel_size=(3, 3), stride=(1, 1), padding=(1, 1), bias=False)\n",
            "      (bn2): BatchNorm2d(256, eps=1e-05, momentum=0.1, affine=True, track_running_stats=True)\n",
            "      (shortcut): Sequential(\n",
            "        (0): Conv2d(128, 256, kernel_size=(1, 1), stride=(2, 2), bias=False)\n",
            "        (1): BatchNorm2d(256, eps=1e-05, momentum=0.1, affine=True, track_running_stats=True)\n",
            "      )\n",
            "    )\n",
            "    (1): BasicBlock(\n",
            "      (conv1): Conv2d(256, 256, kernel_size=(3, 3), stride=(1, 1), padding=(1, 1), bias=False)\n",
            "      (bn1): BatchNorm2d(256, eps=1e-05, momentum=0.1, affine=True, track_running_stats=True)\n",
            "      (conv2): Conv2d(256, 256, kernel_size=(3, 3), stride=(1, 1), padding=(1, 1), bias=False)\n",
            "      (bn2): BatchNorm2d(256, eps=1e-05, momentum=0.1, affine=True, track_running_stats=True)\n",
            "      (shortcut): Sequential()\n",
            "    )\n",
            "  )\n",
            "  (layer4): Sequential(\n",
            "    (0): BasicBlock(\n",
            "      (conv1): Conv2d(256, 512, kernel_size=(3, 3), stride=(2, 2), padding=(1, 1), bias=False)\n",
            "      (bn1): BatchNorm2d(512, eps=1e-05, momentum=0.1, affine=True, track_running_stats=True)\n",
            "      (conv2): Conv2d(512, 512, kernel_size=(3, 3), stride=(1, 1), padding=(1, 1), bias=False)\n",
            "      (bn2): BatchNorm2d(512, eps=1e-05, momentum=0.1, affine=True, track_running_stats=True)\n",
            "      (shortcut): Sequential(\n",
            "        (0): Conv2d(256, 512, kernel_size=(1, 1), stride=(2, 2), bias=False)\n",
            "        (1): BatchNorm2d(512, eps=1e-05, momentum=0.1, affine=True, track_running_stats=True)\n",
            "      )\n",
            "    )\n",
            "    (1): BasicBlock(\n",
            "      (conv1): Conv2d(512, 512, kernel_size=(3, 3), stride=(1, 1), padding=(1, 1), bias=False)\n",
            "      (bn1): BatchNorm2d(512, eps=1e-05, momentum=0.1, affine=True, track_running_stats=True)\n",
            "      (conv2): Conv2d(512, 512, kernel_size=(3, 3), stride=(1, 1), padding=(1, 1), bias=False)\n",
            "      (bn2): BatchNorm2d(512, eps=1e-05, momentum=0.1, affine=True, track_running_stats=True)\n",
            "      (shortcut): Sequential()\n",
            "    )\n",
            "  )\n",
            "  (linear): Linear(in_features=512, out_features=2, bias=True)\n",
            ")\n"
          ]
        }
      ]
    },
    {
      "cell_type": "markdown",
      "source": [
        "### Loss"
      ],
      "metadata": {
        "id": "A-YoGJP3zENU"
      }
    },
    {
      "cell_type": "code",
      "source": [
        "import torch\n",
        "import torch.nn as nn\n",
        "import torch.optim as optim\n",
        "from collections import Counter\n",
        "\n",
        "# Simply use regular CrossEntropyLoss without weights\n",
        "criterion = nn.CrossEntropyLoss()\n",
        "\n",
        "optimizer = optim.SGD(ResNet18.parameters(), lr=0.01, momentum=0.9, weight_decay=0.0001)\n",
        "\n",
        "# Print out class distribution for clarity\n",
        "class_counts = Counter(train_targets)\n",
        "total_samples = len(train_targets)\n",
        "\n",
        "print(\"Class distribution:\")\n",
        "for class_name in dataset.classes:\n",
        "    class_idx = dataset.class_to_idx[class_name]\n",
        "    count = class_counts[class_idx]\n",
        "    percentage = count / total_samples * 100\n",
        "    print(f\"{class_name} (class {class_idx}): {count} samples ({percentage:.2f}%)\")"
      ],
      "metadata": {
        "colab": {
          "base_uri": "https://localhost:8080/"
        },
        "id": "BtQmwadTy_Ax",
        "outputId": "4de790f8-36e0-41a9-fc93-bb160456e83b"
      },
      "execution_count": 9,
      "outputs": [
        {
          "output_type": "stream",
          "name": "stdout",
          "text": [
            "Class distribution:\n",
            "battery (1) (class 0): 755 samples (4.78%)\n",
            "non_battery (1) (class 1): 15029 samples (95.22%)\n"
          ]
        }
      ]
    },
    {
      "cell_type": "markdown",
      "source": [
        "### Load Pretrained Model"
      ],
      "metadata": {
        "id": "fwXS-JryzJ_5"
      }
    },
    {
      "cell_type": "code",
      "source": [
        "import numpy as np\n",
        "from sklearn.metrics import classification_report, accuracy_score, precision_recall_fscore_support, confusion_matrix\n",
        "import matplotlib.pyplot as plt\n",
        "import seaborn as sns\n",
        "\n",
        "# Check if CUDA is available\n",
        "train_on_gpu = torch.cuda.is_available()\n",
        "\n",
        "# Load the saved model\n",
        "model_path = 'no_balance_ResNet18_2_class_garbage_train_50.pt'  # Path to your saved model\n",
        "\n",
        "# Initialize the model with the same architecture\n",
        "ResNet18 = ResNet(BasicBlock, [2,2,2,2], num_classes=2)\n",
        "\n",
        "# Handle loading from DataParallel model if needed\n",
        "if train_on_gpu:\n",
        "    ResNet18 = ResNet18.cuda()\n",
        "    state_dict = torch.load(model_path)\n",
        "    # If the model was saved with DataParallel\n",
        "    if list(state_dict.keys())[0].startswith('module.'):\n",
        "        ResNet18 = torch.nn.DataParallel(ResNet18)\n",
        "        ResNet18.load_state_dict(state_dict)\n",
        "    else:\n",
        "        ResNet18.load_state_dict(state_dict)\n",
        "else:\n",
        "    state_dict = torch.load(model_path, map_location=torch.device('cpu'))\n",
        "    # If the model was saved with DataParallel but we're loading on CPU\n",
        "    if list(state_dict.keys())[0].startswith('module.'):\n",
        "        from collections import OrderedDict\n",
        "        new_state_dict = OrderedDict()\n",
        "        for k, v in state_dict.items():\n",
        "            name = k[7:] # remove 'module.' prefix\n",
        "            new_state_dict[name] = v\n",
        "        ResNet18.load_state_dict(new_state_dict)\n",
        "    else:\n",
        "        ResNet18.load_state_dict(state_dict)\n",
        "\n",
        "# Set model to evaluation mode\n",
        "model = ResNet18\n",
        "# ResNet18.eval()\n",
        "device = torch.device(\"cuda\" if torch.cuda.is_available() else \"cpu\")\n",
        "model = model.to(device)\n",
        "model.eval()\n",
        "print(\"Pretrained ResNet18 loaded and ready!\")"
      ],
      "metadata": {
        "colab": {
          "base_uri": "https://localhost:8080/"
        },
        "id": "7fxVs5NyzMkN",
        "outputId": "59da0ba4-828c-4430-8e96-096d643e8958"
      },
      "execution_count": 10,
      "outputs": [
        {
          "output_type": "stream",
          "name": "stdout",
          "text": [
            "Pretrained ResNet18 loaded and ready!\n"
          ]
        }
      ]
    },
    {
      "cell_type": "markdown",
      "source": [
        "## Adversarial Patch Training"
      ],
      "metadata": {
        "id": "ljUzBQx4zODj"
      }
    },
    {
      "cell_type": "code",
      "source": [
        "import torch\n",
        "import torch.nn as nn\n",
        "import torch.optim as optim\n",
        "import torchvision\n",
        "import torchvision.transforms as transforms\n",
        "import numpy as np\n",
        "import matplotlib.pyplot as plt\n",
        "from sklearn.metrics import confusion_matrix, precision_score, recall_score, roc_auc_score, roc_curve"
      ],
      "metadata": {
        "id": "Q8utx2yQzRy3"
      },
      "execution_count": 11,
      "outputs": []
    },
    {
      "cell_type": "code",
      "source": [
        "# import torch\n",
        "# import torch.nn as nn\n",
        "# import torch.optim as optim\n",
        "# from collections import Counter\n",
        "\n",
        "# def get_weighted_loss(train_targets, dataset, model_parameters, learning_rate=0.01, momentum=0.9, weight_decay=0.0001):\n",
        "#     # Calculate class weights directly using the default class indices\n",
        "#     class_counts = Counter(train_targets)\n",
        "#     total_samples = len(train_targets)\n",
        "\n",
        "#     # Simplify class weight calculation to use indices directly\n",
        "#     num_classes = len(dataset.classes)\n",
        "#     class_weights = [total_samples / (num_classes * class_counts[i]) for i in range(num_classes)]\n",
        "#     class_weights_tensor = torch.FloatTensor(class_weights)\n",
        "\n",
        "#     # Move weights to GPU if using CUDA\n",
        "#     if torch.cuda.is_available():\n",
        "#         class_weights_tensor = class_weights_tensor.cuda()\n",
        "\n",
        "#     # Weighted CrossEntropyLoss - gives more importance to minority classes\n",
        "#     criterion = nn.CrossEntropyLoss(weight=class_weights_tensor)\n",
        "\n",
        "#     # Setup the optimizer\n",
        "#     optimizer = optim.SGD(model_parameters, lr=learning_rate, momentum=momentum, weight_decay=weight_decay)\n",
        "\n",
        "#     # Optionally print out class distribution for clarity\n",
        "#     print(\"Class distribution:\")\n",
        "#     for class_name in dataset.classes:\n",
        "#         class_idx = dataset.class_to_idx[class_name]\n",
        "#         count = class_counts[class_idx]\n",
        "#         percentage = count / total_samples * 100\n",
        "#         print(f\"{class_name} (class {class_idx}): {count} samples ({percentage:.2f}%)\")\n",
        "\n",
        "#     return criterion, optimizer\n",
        "\n",
        "# # Example usage:\n",
        "# # Assuming 'train_targets', 'dataset', and 'model_parameters' are predefined\n",
        "# # criterion, optimizer = get_weighted_loss(train_targets, dataset, ResNet18.parameters())"
      ],
      "metadata": {
        "id": "o9CLkL1xzUDq"
      },
      "execution_count": 12,
      "outputs": []
    },
    {
      "cell_type": "code",
      "source": [
        "# Function to create a random patch\n",
        "def create_patch(patch_size=(3, 3)):\n",
        "    patch = torch.randn(3, *patch_size, requires_grad=True, device=device)\n",
        "    return patch\n",
        "\n",
        "# # Function to apply the patch to images\n",
        "# def place_patch(img, patch):\n",
        "#     batch_size, _, h, w = img.size()\n",
        "#     ph, pw = patch.size(1), patch.size(2)\n",
        "#     for i in range(batch_size):\n",
        "#         x_offset = torch.randint(0, h - ph + 1, (1,)).item()\n",
        "#         y_offset = torch.randint(0, w - pw + 1, (1,)).item()\n",
        "#         img[i, :, x_offset:x_offset+ph, y_offset:y_offset+pw] = patch\n",
        "#     return img\n",
        "\n",
        "# Function to apply the patch at the center of images\n",
        "def place_patch(img, patch):\n",
        "    batch_size, _, h, w = img.size()\n",
        "    ph, pw = patch.size(1), patch.size(2)\n",
        "    for i in range(batch_size):\n",
        "        # Compute center coordinates\n",
        "        x_center = h // 2\n",
        "        y_center = w // 2\n",
        "        # Compute top-left corner to place the patch\n",
        "        x_offset = x_center - ph // 2\n",
        "        y_offset = y_center - pw // 2\n",
        "        # Place the patch at the center\n",
        "        img[i, :, x_offset:x_offset+ph, y_offset:y_offset+pw] = patch\n",
        "    return img\n",
        "\n",
        "# Training function for adversarial patch\n",
        "def patch_training_step(model, patch, target_class=None, dataloader=None, optimizer=None, criterion=None):\n",
        "    model.train()\n",
        "    total_loss = 0\n",
        "    for images, _ in dataloader:\n",
        "        images = images.to(device)\n",
        "        optimizer.zero_grad()\n",
        "        patched_images = place_patch(images, patch)\n",
        "        outputs = model(patched_images)\n",
        "        if target_class is not None:\n",
        "            labels = torch.full((images.size(0),), target_class, dtype=torch.long, device=device)\n",
        "        else:\n",
        "            labels = torch.randint(0, 10, (images.size(0),), device=device)  # Random class for untargeted attack\n",
        "        loss = criterion(outputs, labels)\n",
        "        loss.backward()\n",
        "        optimizer.step()\n",
        "        total_loss += loss.item()\n",
        "\n",
        "    return total_loss / len(dataloader)\n",
        "\n",
        "# Function to train the adversarial patch\n",
        "def train_adversarial_patch(model, patch, target_class=None, num_epochs=10):\n",
        "    patch_optimizer = optim.Adam([patch], lr=0.01)\n",
        "    criterion = nn.CrossEntropyLoss()\n",
        "    for epoch in range(num_epochs):\n",
        "        loss = patch_training_step(model, patch, target_class, train_loader, patch_optimizer, criterion)\n",
        "        print(f\"Epoch {epoch+1}/{num_epochs}, Loss: {loss:.4f}\")\n",
        "\n",
        "# Function to evaluate the success rate of the adversarial patch\n",
        "def evaluate_patch(model, patch, dataloader, target_class=None):\n",
        "    model.eval()\n",
        "    correct = 0\n",
        "    total = 0\n",
        "    with torch.no_grad():\n",
        "        for images, labels in dataloader:\n",
        "            images, labels = images.to(device), labels.to(device)\n",
        "            patched_images = place_patch(images, patch)\n",
        "            outputs = model(patched_images)\n",
        "            _, predicted = outputs.max(1)\n",
        "            if target_class is not None:\n",
        "                correct += (predicted == target_class).sum().item()\n",
        "            else:\n",
        "                correct += (predicted != labels).sum().item()  # Evaluate untargeted attack\n",
        "            total += labels.size(0)\n",
        "\n",
        "    accuracy = 100 * correct / total\n",
        "    print(f\"Attack Success Rate: {accuracy:.2f}%\")\n",
        "\n",
        "\n",
        "\n",
        "# Function to visualize the patch\n",
        "def visualize_patch(patch):\n",
        "    patch = patch.detach().cpu().numpy()\n",
        "    patch = np.clip((patch - patch.min()) / (patch.max() - patch.min()), 0, 1)\n",
        "\n",
        "    plt.figure(figsize=(2, 2))\n",
        "    plt.imshow(np.transpose(patch, (1, 2, 0)))  # [C, H, W] -> [H, W, C]\n",
        "    plt.title(\"Adversarial Patch\")\n",
        "    plt.axis('off')\n",
        "    plt.show()\n",
        "\n",
        "# Function to visualize misclassified patched images\n",
        "def visualize_misclassified_patched_images(model, patch, dataloader, classes, target_class, num_examples=5):\n",
        "    model.eval()\n",
        "    examples_shown = 0\n",
        "    for images, labels in dataloader:\n",
        "        images, labels = images.to(device), labels.to(device)\n",
        "        patched_images = place_patch(images.clone(), patch)\n",
        "        with torch.no_grad():\n",
        "            original_preds = model(images).argmax(dim=1)\n",
        "            patched_preds = model(patched_images).argmax(dim=1)\n",
        "        for i in range(images.size(0)):\n",
        "            if patched_preds[i] == target_class:  # Targeted attack\n",
        "                original_image = (images[i].cpu().detach().numpy().transpose(1, 2, 0) * 0.5) + 0.5\n",
        "                patched_image = (patched_images[i].cpu().detach().numpy().transpose(1, 2, 0) * 0.5) + 0.5\n",
        "\n",
        "                fig, axes = plt.subplots(1, 2, figsize=(4, 4))\n",
        "                axes[0].imshow(np.clip(original_image, 0, 1))\n",
        "                axes[0].set_title(f\"Original Image\\nTrue Label: {classes[labels[i].item()]}\\nPredicted: {classes[original_preds[i].item()]}\")\n",
        "\n",
        "                axes[1].imshow(np.clip(patched_image, 0, 1))\n",
        "                axes[1].set_title(f\"Image with Adversarial Patch\\nTrue Label: {classes[labels[i].item()]}\\nPredicted: {classes[patched_preds[i].item()]}\")\n",
        "\n",
        "                plt.show()\n",
        "                examples_shown += 1\n",
        "                if examples_shown >= num_examples:\n",
        "                    return"
      ],
      "metadata": {
        "id": "rzKAenFjzWvY"
      },
      "execution_count": 13,
      "outputs": []
    },
    {
      "cell_type": "code",
      "source": [
        "# CIFAR-10 class names\n",
        "classes = ['battery', 'non_battery']\n",
        "\n",
        "# Targeted classes (plane, car, bird)\n",
        "target_classes = [0, 1]  # Corresponding to 'battery', 'non_battery'\n",
        "\n",
        "# Different patch sizes\n",
        "patch_sizes = [(16, 16)]\n",
        "\n",
        "# Train and evaluate patches for each target class\n",
        "for target_class in target_classes:\n",
        "    for patch_size in patch_sizes:\n",
        "        print(f\"\\nTraining for patch size: {patch_size} with target class: {classes[target_class]}\")\n",
        "        patch = create_patch(patch_size)\n",
        "        train_adversarial_patch(model, patch, target_class=target_class, num_epochs=20)\n",
        "\n",
        "        # Save the patch\n",
        "        torch.save(patch, f'adversarial_patch_{patch_size[0]}x{patch_size[1]}_target_{target_class}.pth')\n",
        "\n",
        "        # Visualize the patch\n",
        "        print(f\"Visualizing patch of size {patch_size} for target class {classes[target_class]}\")\n",
        "        visualize_patch(patch)\n",
        "\n",
        "        # Evaluate attack success rate\n",
        "        evaluate_patch(model, patch, test_loader, target_class=target_class)\n",
        "\n",
        "        # Visualize misclassified examples with the adversarial patch\n",
        "        visualize_misclassified_patched_images(model, patch, test_loader, classes, target_class, num_examples=5)"
      ],
      "metadata": {
        "colab": {
          "base_uri": "https://localhost:8080/",
          "height": 1000
        },
        "id": "fbw3uAfmzZuL",
        "outputId": "795ec7b5-3cb8-4304-b8ff-d2d3a5665472"
      },
      "execution_count": 14,
      "outputs": [
        {
          "output_type": "stream",
          "name": "stdout",
          "text": [
            "\n",
            "Training for patch size: (16, 16) with target class: battery\n",
            "Epoch 1/20, Loss: 4.6238\n",
            "Epoch 2/20, Loss: 4.2892\n",
            "Epoch 3/20, Loss: 4.1891\n",
            "Epoch 4/20, Loss: 4.1526\n",
            "Epoch 5/20, Loss: 4.1235\n",
            "Epoch 6/20, Loss: 4.1115\n",
            "Epoch 7/20, Loss: 4.1004\n",
            "Epoch 8/20, Loss: 4.0789\n",
            "Epoch 9/20, Loss: 4.0702\n",
            "Epoch 10/20, Loss: 4.0651\n",
            "Epoch 11/20, Loss: 4.0559\n",
            "Epoch 12/20, Loss: 4.0509\n",
            "Epoch 13/20, Loss: 4.0420\n",
            "Epoch 14/20, Loss: 4.0398\n",
            "Epoch 15/20, Loss: 4.0422\n",
            "Epoch 16/20, Loss: 4.0267\n",
            "Epoch 17/20, Loss: 4.0223\n",
            "Epoch 18/20, Loss: 4.0119\n",
            "Epoch 19/20, Loss: 4.0037\n",
            "Epoch 20/20, Loss: 3.9963\n",
            "Visualizing patch of size (16, 16) for target class battery\n"
          ]
        },
        {
          "output_type": "display_data",
          "data": {
            "text/plain": [
              "<Figure size 200x200 with 1 Axes>"
            ],
            "image/png": "[encoded data removed]"
          },
          "metadata": {}
        },
        {
          "output_type": "stream",
          "name": "stdout",
          "text": [
            "Attack Success Rate: 0.00%\n",
            "\n",
            "Training for patch size: (16, 16) with target class: non_battery\n",
            "Epoch 1/20, Loss: 0.0164\n",
            "Epoch 2/20, Loss: 0.0053\n",
            "Epoch 3/20, Loss: 0.0039\n",
            "Epoch 4/20, Loss: 0.0033\n",
            "Epoch 5/20, Loss: 0.0027\n",
            "Epoch 6/20, Loss: 0.0022\n",
            "Epoch 7/20, Loss: 0.0019\n",
            "Epoch 8/20, Loss: 0.0017\n",
            "Epoch 9/20, Loss: 0.0015\n",
            "Epoch 10/20, Loss: 0.0014\n",
            "Epoch 11/20, Loss: 0.0013\n",
            "Epoch 12/20, Loss: 0.0012\n",
            "Epoch 13/20, Loss: 0.0011\n",
            "Epoch 14/20, Loss: 0.0011\n",
            "Epoch 15/20, Loss: 0.0010\n",
            "Epoch 16/20, Loss: 0.0009\n",
            "Epoch 17/20, Loss: 0.0009\n",
            "Epoch 18/20, Loss: 0.0008\n",
            "Epoch 19/20, Loss: 0.0008\n",
            "Epoch 20/20, Loss: 0.0007\n",
            "Visualizing patch of size (16, 16) for target class non_battery\n"
          ]
        },
        {
          "output_type": "display_data",
          "data": {
            "text/plain": [
              "<Figure size 200x200 with 1 Axes>"
            ],
            "image/png": "[encoded data removed]"
          },
          "metadata": {}
        },
        {
          "output_type": "stream",
          "name": "stdout",
          "text": [
            "Attack Success Rate: 100.00%\n"
          ]
        },
        {
          "output_type": "display_data",
          "data": {
            "text/plain": [
              "<Figure size 400x400 with 2 Axes>"
            ],
            "image/png": "[encoded data removed]"
          },
          "metadata": {}
        },
        {
          "output_type": "display_data",
          "data": {
            "text/plain": [
              "<Figure size 400x400 with 2 Axes>"
            ],
            "image/png": "[encoded data removed]"
          },
          "metadata": {}
        },
        {
          "output_type": "display_data",
          "data": {
            "text/plain": [
              "<Figure size 400x400 with 2 Axes>"
            ],
            "image/png": "[encoded data removed]"
          },
          "metadata": {}
        },
        {
          "output_type": "display_data",
          "data": {
            "text/plain": [
              "<Figure size 400x400 with 2 Axes>"
            ],
            "image/png": "[encoded data removed]"
          },
          "metadata": {}
        },
        {
          "output_type": "display_data",
          "data": {
            "text/plain": [
              "<Figure size 400x400 with 2 Axes>"
            ],
            "image/png": "[encoded data removed]"
          },
          "metadata": {}
        }
      ]
    }
  ]
}