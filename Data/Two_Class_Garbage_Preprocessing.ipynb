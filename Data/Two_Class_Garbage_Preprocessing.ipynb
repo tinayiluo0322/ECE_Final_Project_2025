{
  "nbformat": 4,
  "nbformat_minor": 0,
  "metadata": {
    "colab": {
      "provenance": [],
      "authorship_tag": "ABX9TyPbYKNMyK8gv+A6jGi5bC1D",
      "include_colab_link": true
    },
    "kernelspec": {
      "name": "python3",
      "display_name": "Python 3"
    },
    "language_info": {
      "name": "python"
    }
  },
  "cells": [
    {
      "cell_type": "markdown",
      "metadata": {
        "id": "view-in-github",
        "colab_type": "text"
      },
      "source": [
        "<a href=\"https://colab.research.google.com/github/tinayiluo0322/ECE_Final_Project_2025/blob/main/Data/Two_Class_Garbage_Preprocessing.ipynb\" target=\"_parent\"><img src=\"https://colab.research.google.com/assets/colab-badge.svg\" alt=\"Open In Colab\"/></a>"
      ]
    },
    {
      "cell_type": "code",
      "execution_count": 1,
      "metadata": {
        "colab": {
          "base_uri": "https://localhost:8080/"
        },
        "id": "gfKSoi_Mj6GA",
        "outputId": "9c73cfd2-b06a-4bbb-923e-d5c08784cb17"
      },
      "outputs": [
        {
          "output_type": "stream",
          "name": "stdout",
          "text": [
            "Mounted at /content/drive\n"
          ]
        }
      ],
      "source": [
        "from google.colab import drive\n",
        "drive.mount('/content/drive')"
      ]
    },
    {
      "cell_type": "code",
      "source": [
        "import sys\n",
        "import os"
      ],
      "metadata": {
        "id": "i3SkKC4dkvSZ"
      },
      "execution_count": 2,
      "outputs": []
    },
    {
      "cell_type": "code",
      "source": [
        "# Change this to the absolute path where original data is stored\n",
        "CODE_PATH = \"/content/drive/MyDrive/garbage-dataset\"\n",
        "\n",
        "# Add this path to sys.path so Python can find it\n",
        "sys.path.append(CODE_PATH)\n",
        "\n",
        "# Check if Colab can see the files\n",
        "print(\"Files in directory:\", os.listdir(CODE_PATH))"
      ],
      "metadata": {
        "colab": {
          "base_uri": "https://localhost:8080/"
        },
        "id": "DcYbQyrHk1r_",
        "outputId": "94adfc15-c96b-4e37-c44c-6c6afe37d7f0"
      },
      "execution_count": 3,
      "outputs": [
        {
          "output_type": "stream",
          "name": "stdout",
          "text": [
            "Files in directory: ['metal', 'battery', 'glass', 'clothes', 'plastic', 'cardboard', 'paper', 'trash', 'shoes', 'biological']\n"
          ]
        }
      ]
    },
    {
      "cell_type": "markdown",
      "source": [
        "Create two class battery dataset"
      ],
      "metadata": {
        "id": "mDY2dD9iqT4l"
      }
    },
    {
      "cell_type": "code",
      "source": [
        "import os\n",
        "import shutil\n",
        "\n",
        "# Original dataset path\n",
        "CODE_PATH = \"/content/drive/MyDrive/garbage-dataset\"\n",
        "# New binary dataset path\n",
        "NEW_PATH = \"/content/drive/MyDrive/two_class_garbage-dataset\"\n",
        "\n",
        "# Original 10-class folders\n",
        "class_names = os.listdir(CODE_PATH)\n",
        "\n",
        "# Step 1: Print number of images per original class\n",
        "print(\"Original class distributions:\")\n",
        "total_original = 0\n",
        "for class_name in class_names:\n",
        "    class_path = os.path.join(CODE_PATH, class_name)\n",
        "    num_images = len([f for f in os.listdir(class_path) if f.endswith(\".jpg\")])\n",
        "    print(f\"{class_name}: {num_images}\")\n",
        "    total_original += num_images\n",
        "print(f\"Total original images: {total_original}\")\n",
        "\n",
        "# Step 2: Prepare new directory structure\n",
        "battery_dir = os.path.join(NEW_PATH, \"battery\")\n",
        "non_battery_dir = os.path.join(NEW_PATH, \"non_battery\")\n",
        "\n",
        "os.makedirs(battery_dir, exist_ok=True)\n",
        "os.makedirs(non_battery_dir, exist_ok=True)\n",
        "\n",
        "# Step 3: Copy and rename images\n",
        "non_battery_counter = 1\n",
        "battery_counter = 1\n",
        "\n",
        "for class_name in class_names:\n",
        "    src_folder = os.path.join(CODE_PATH, class_name)\n",
        "    for img_file in os.listdir(src_folder):\n",
        "        if not img_file.endswith(\".jpg\"):\n",
        "            continue\n",
        "\n",
        "        src_img_path = os.path.join(src_folder, img_file)\n",
        "\n",
        "        if class_name == \"battery\":\n",
        "            dst_img_name = f\"battery_{battery_counter}.jpg\"\n",
        "            dst_img_path = os.path.join(battery_dir, dst_img_name)\n",
        "            battery_counter += 1\n",
        "        else:\n",
        "            dst_img_name = f\"non_battery_{non_battery_counter}.jpg\"\n",
        "            dst_img_path = os.path.join(non_battery_dir, dst_img_name)\n",
        "            non_battery_counter += 1\n",
        "\n",
        "        shutil.copy(src_img_path, dst_img_path)\n",
        "\n",
        "# Step 4: Print new distribution and verify total count\n",
        "battery_images = len(os.listdir(battery_dir))\n",
        "non_battery_images = len(os.listdir(non_battery_dir))\n",
        "print(\"\\nNew binary class distribution:\")\n",
        "print(f\"battery: {battery_images}\")\n",
        "print(f\"non_battery: {non_battery_images}\")\n",
        "print(f\"Total images after reorganization: {battery_images + non_battery_images}\")\n",
        "assert (battery_images + non_battery_images) == total_original, \"Mismatch in total image count!\""
      ],
      "metadata": {
        "colab": {
          "base_uri": "https://localhost:8080/"
        },
        "id": "MjJGH9lLlg8t",
        "outputId": "f4d30d30-0e8b-4280-b49d-b7bafa9a3d37"
      },
      "execution_count": 4,
      "outputs": [
        {
          "output_type": "stream",
          "name": "stdout",
          "text": [
            "Original class distributions:\n",
            "metal: 1016\n",
            "battery: 944\n",
            "glass: 3054\n",
            "clothes: 5326\n",
            "plastic: 1976\n",
            "cardboard: 1824\n",
            "paper: 1678\n",
            "trash: 938\n",
            "shoes: 1977\n",
            "biological: 997\n",
            "Total original images: 19730\n",
            "\n",
            "New binary class distribution:\n",
            "battery: 944\n",
            "non_battery: 18786\n",
            "Total images after reorganization: 19730\n"
          ]
        }
      ]
    }
  ]
}